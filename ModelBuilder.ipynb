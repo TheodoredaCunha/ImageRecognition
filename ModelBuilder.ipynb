{
  "nbformat": 4,
  "nbformat_minor": 0,
  "metadata": {
    "colab": {
      "name": "ModelBuilder.ipynb",
      "provenance": []
    },
    "kernelspec": {
      "name": "python3",
      "display_name": "Python 3"
    }
  },
  "cells": [
    {
      "cell_type": "markdown",
      "metadata": {
        "id": "uxzp1vZjbNXx"
      },
      "source": [
        "Loading Libraries"
      ]
    },
    {
      "cell_type": "code",
      "metadata": {
        "id": "2a7JXTl8EQgC"
      },
      "source": [
        "import tensorflow as tf\r\n",
        "from tensorflow import keras\r\n",
        "from keras.models import Sequential\r\n",
        "from keras.datasets import fashion_mnist\r\n",
        "from keras.layers import Dense, Flatten, LSTM, Embedding, Dropout, Conv2D, MaxPooling2D"
      ],
      "execution_count": 2,
      "outputs": []
    },
    {
      "cell_type": "code",
      "metadata": {
        "id": "5fYbUcTYGTh3"
      },
      "source": [
        "import numpy as np\r\n",
        "import matplotlib.pyplot as plt"
      ],
      "execution_count": 3,
      "outputs": []
    },
    {
      "cell_type": "markdown",
      "metadata": {
        "id": "9f6Qhn_MbRqe"
      },
      "source": [
        "Loading and Preparing Dataset"
      ]
    },
    {
      "cell_type": "code",
      "metadata": {
        "colab": {
          "base_uri": "https://localhost:8080/"
        },
        "id": "eyRXL2WKF5hY",
        "outputId": "7122f4f1-ee16-45a1-889d-84e206ecf6a6"
      },
      "source": [
        "(train_images, train_labels), (test_images, test_labels) = fashion_mnist.load_data()\r\n",
        "print(test_images.shape)\r\n",
        "\r\n",
        "train_labels = keras.utils.to_categorical(train_labels, 10)\r\n",
        "train_images = train_images.reshape(train_images.shape[0], 28, 28, 1)\r\n",
        "\r\n",
        "test_labels = keras.utils.to_categorical(test_labels, 10)\r\n",
        "test_images = test_images.reshape(test_images.shape[0], 28, 28, 1)"
      ],
      "execution_count": 4,
      "outputs": [
        {
          "output_type": "stream",
          "text": [
            "Downloading data from https://storage.googleapis.com/tensorflow/tf-keras-datasets/train-labels-idx1-ubyte.gz\n",
            "32768/29515 [=================================] - 0s 0us/step\n",
            "Downloading data from https://storage.googleapis.com/tensorflow/tf-keras-datasets/train-images-idx3-ubyte.gz\n",
            "26427392/26421880 [==============================] - 0s 0us/step\n",
            "Downloading data from https://storage.googleapis.com/tensorflow/tf-keras-datasets/t10k-labels-idx1-ubyte.gz\n",
            "8192/5148 [===============================================] - 0s 0us/step\n",
            "Downloading data from https://storage.googleapis.com/tensorflow/tf-keras-datasets/t10k-images-idx3-ubyte.gz\n",
            "4423680/4422102 [==============================] - 0s 0us/step\n",
            "(10000, 28, 28)\n"
          ],
          "name": "stdout"
        }
      ]
    },
    {
      "cell_type": "code",
      "metadata": {
        "id": "zZFIC8ksmve3"
      },
      "source": [
        "# Showing Dataset\r\n",
        "for i in range(100):\r\n",
        "  matplotlib_image = np.array(test_images[i]).reshape(1, 28, 28)\r\n",
        "  plt.imshow(matplotlib_image[0])\r\n",
        "  plt.show()"
      ],
      "execution_count": null,
      "outputs": []
    },
    {
      "cell_type": "code",
      "metadata": {
        "id": "jD1AZQ-1K5J-"
      },
      "source": [
        "class_names = ['T-shirt/top', 'Trouser', 'Pullover', 'Dress', 'Coat',\r\n",
        "               'Sandal', 'Shirt', 'Sneaker', 'Bag', 'Ankle boot']\r\n",
        "#class_names = [0, 1,2,3,4,5,6,7,8,9]"
      ],
      "execution_count": null,
      "outputs": []
    },
    {
      "cell_type": "code",
      "metadata": {
        "id": "BZinTvkp2Q8u"
      },
      "source": [
        "#making the model\r\n",
        "moodel = Sequential()\r\n",
        "moodel.add(Conv2D(32, kernel_size = (3,3), activation = \"relu\", input_shape = (28, 28, 1)))\r\n",
        "moodel.add(Conv2D(64, (3, 3), activation='relu'))\r\n",
        "moodel.add(MaxPooling2D(pool_size = (2,2)))\r\n",
        "moodel.add(Dropout(0.25))\r\n",
        "moodel.add(Flatten())\r\n",
        "moodel.add(Dense(128, activation='relu'))\r\n",
        "moodel.add(Dropout(0.5))\r\n",
        "moodel.add(Dense(10, activation='softmax'))\r\n",
        "moodel.compile(loss = \"categorical_crossentropy\", optimizer = \"adadelta\", metrics = [\"accuracy\"])\r\n",
        "\r\n",
        "moodel.summary()"
      ],
      "execution_count": null,
      "outputs": []
    },
    {
      "cell_type": "code",
      "metadata": {
        "id": "64GS2Iss37fn"
      },
      "source": [
        "#Training the model\r\n",
        "print(train_images[0])\r\n",
        "print(train_labels[0])\r\n",
        "print(type(train_labels))\r\n",
        "good_enough = True\r\n",
        "while not good_enough:\r\n",
        "  moodel.fit(train_images, train_labels, epochs = 20, batch_size = 128, verbose = 1)\r\n",
        "  if moodel.evaluate(test_images, test_labels, verbose = 0)[1] > 0.90:\r\n",
        "    good_enough = True"
      ],
      "execution_count": null,
      "outputs": []
    },
    {
      "cell_type": "code",
      "metadata": {
        "colab": {
          "base_uri": "https://localhost:8080/"
        },
        "id": "FcB364u1H6M8",
        "outputId": "e71af4ca-889f-4a68-b057-487e65ea4fb3"
      },
      "source": [
        "#Evaluate Model\r\n",
        "moodel.evaluate(test_images, test_labels, verbose = 0)"
      ],
      "execution_count": null,
      "outputs": [
        {
          "output_type": "execute_result",
          "data": {
            "text/plain": [
              "[0.3767894506454468, 0.8668000102043152]"
            ]
          },
          "metadata": {
            "tags": []
          },
          "execution_count": 41
        }
      ]
    },
    {
      "cell_type": "code",
      "metadata": {
        "id": "LUhKz0dbIoOM"
      },
      "source": [
        "#Get an examples data from dataset\r\n",
        "def get_example(test_index):\r\n",
        "  test = np.array([test_images[test_index]])\r\n",
        "  print(test.shape)\r\n",
        "  prediction = list(moodel.predict(test)[0])\r\n",
        "  answer = prediction.index(max(prediction))\r\n",
        "  res = class_names[answer]\r\n",
        "  print(res)\r\n",
        "  plt.figure()\r\n",
        "  show_image = test_images.reshape(10000, 28, 28)\r\n",
        "  plt.imshow(show_image[test_index])\r\n",
        "  plt.colorbar()\r\n",
        "  plt.grid(False)\r\n",
        "  plt.show()\r\n",
        "  return res\r\n",
        "\r\n",
        "counter = 0\r\n",
        "while get_example(counter) != \"Trouser\":\r\n",
        "  counter += 1"
      ],
      "execution_count": null,
      "outputs": []
    },
    {
      "cell_type": "markdown",
      "metadata": {
        "id": "0TY1AROubzKZ"
      },
      "source": [
        "Testing the camera feature:"
      ]
    },
    {
      "cell_type": "code",
      "metadata": {
        "id": "w3teqiHiaGbE"
      },
      "source": [
        "from IPython.display import display, Javascript\n",
        "from google.colab.output import eval_js\n",
        "from base64 import b64decode\n",
        "import matplotlib.image as mpimg\n",
        "import io\n",
        "import cv2\n",
        "#import imutils\n",
        "def take_photo(filename='photo.jpg', quality=0.8):\n",
        "  js = Javascript('''\n",
        "    async function takePhoto(quality) {\n",
        "      const div = document.createElement('div');\n",
        "      const capture = document.createElement('button');\n",
        "      capture.textContent = 'Capture';\n",
        "      div.appendChild(capture);\n",
        "\n",
        "      const video = document.createElement('video');\n",
        "      video.style.display = 'block';\n",
        "      const stream = await navigator.mediaDevices.getUserMedia({video: true});\n",
        "\n",
        "      document.body.appendChild(div);\n",
        "      div.appendChild(video);\n",
        "      video.srcObject = stream;\n",
        "      await video.play();\n",
        "\n",
        "      // Resize the output to fit the video element.\n",
        "      google.colab.output.setIframeHeight(document.documentElement.scrollHeight, true);\n",
        "\n",
        "      // Wait for Capture to be clicked.\n",
        "      await new Promise((resolve) => capture.onclick = resolve);\n",
        "\n",
        "      const canvas = document.createElement('canvas');\n",
        "      console.log(video.width, video.height);\n",
        "      canvas.width = 550;\n",
        "      canvas.height = 450;\n",
        "      canvas.getContext('2d').drawImage(video, 0, 0);\n",
        "      stream.getVideoTracks()[0].stop();\n",
        "      div.remove();\n",
        "      return canvas.toDataURL('image/jpeg', quality);\n",
        "    }\n",
        "    ''')\n",
        "  display(js)\n",
        "  data = eval_js('takePhoto({})'.format(quality))\n",
        "  binary = b64decode(data.split(',')[1])\n",
        "  image = io.BytesIO(binary)\n",
        "  i = mpimg.imread(image, format='JPG')\n",
        "  resized = cv2.resize(i, (28, 28))\n",
        "  #resized = imutils.resize(i, width =28)\n",
        "  gray = cv2.cvtColor(resized, cv2.COLOR_BGR2GRAY)\n",
        "  plt.imshow(gray, interpolation='nearest')\n",
        "  plt.show()\n",
        "  gray = np.array(gray)\n",
        "  print(gray.shape)\n",
        "  fixed = []\n",
        "  for i in gray:\n",
        "    current = []\n",
        "    for j in i:\n",
        "      if j <= 15:\n",
        "        current.append([5])\n",
        "      else:\n",
        "        current.append([j])\n",
        "    fixed.append(current)\n",
        "  return fixed"
      ],
      "execution_count": null,
      "outputs": []
    },
    {
      "cell_type": "markdown",
      "metadata": {
        "id": "Ez5tp8jd_rzI"
      },
      "source": [
        ""
      ]
    },
    {
      "cell_type": "code",
      "metadata": {
        "colab": {
          "base_uri": "https://localhost:8080/",
          "height": 351
        },
        "id": "WJeVHqQxa9c5",
        "outputId": "c7bfdc72-a67a-47c9-b8ce-eb36b03906f5"
      },
      "source": [
        "resized = take_photo()\r\n",
        "photo = []\r\n",
        "#resized = cv2.cvtColor(resized, cv2.COLOR_BGR2GRAY)\r\n",
        "#resized = resized[:, :, 0]\r\n",
        "photo.append(resized)\r\n",
        "photo = np.array(photo)\r\n",
        "photo.reshape(1, 28, 28, 1)\r\n",
        "print(photo.shape)\r\n",
        "p = moodel.predict(photo)\r\n",
        "print(p)\r\n",
        "results_index = list(p[0]).index(max(list(p[0])))\r\n",
        "class_names[results_index]"
      ],
      "execution_count": null,
      "outputs": [
        {
          "output_type": "display_data",
          "data": {
            "application/javascript": [
              "\n",
              "    async function takePhoto(quality) {\n",
              "      const div = document.createElement('div');\n",
              "      const capture = document.createElement('button');\n",
              "      capture.textContent = 'Capture';\n",
              "      div.appendChild(capture);\n",
              "\n",
              "      const video = document.createElement('video');\n",
              "      video.style.display = 'block';\n",
              "      const stream = await navigator.mediaDevices.getUserMedia({video: true});\n",
              "\n",
              "      document.body.appendChild(div);\n",
              "      div.appendChild(video);\n",
              "      video.srcObject = stream;\n",
              "      await video.play();\n",
              "\n",
              "      // Resize the output to fit the video element.\n",
              "      google.colab.output.setIframeHeight(document.documentElement.scrollHeight, true);\n",
              "\n",
              "      // Wait for Capture to be clicked.\n",
              "      await new Promise((resolve) => capture.onclick = resolve);\n",
              "\n",
              "      const canvas = document.createElement('canvas');\n",
              "      console.log(video.width, video.height);\n",
              "      canvas.width = 550;\n",
              "      canvas.height = 450;\n",
              "      canvas.getContext('2d').drawImage(video, 0, 0);\n",
              "      stream.getVideoTracks()[0].stop();\n",
              "      div.remove();\n",
              "      return canvas.toDataURL('image/jpeg', quality);\n",
              "    }\n",
              "    "
            ],
            "text/plain": [
              "<IPython.core.display.Javascript object>"
            ]
          },
          "metadata": {
            "tags": []
          }
        },
        {
          "output_type": "display_data",
          "data": {
            "image/png": "[encoded data removed]",
            "text/plain": [
              "<Figure size 432x288 with 1 Axes>"
            ]
          },
          "metadata": {
            "tags": [],
            "needs_background": "light"
          }
        },
        {
          "output_type": "stream",
          "text": [
            "(28, 28)\n",
            "(1, 28, 28, 1)\n",
            "[[2.7496559e-03 9.7217780e-01 4.6777682e-04 6.6032219e-03 6.8599416e-04\n",
            "  4.0511503e-03 1.0339219e-02 2.0392106e-03 3.3851288e-04 5.4745656e-04]]\n"
          ],
          "name": "stdout"
        },
        {
          "output_type": "execute_result",
          "data": {
            "application/vnd.google.colaboratory.intrinsic+json": {
              "type": "string"
            },
            "text/plain": [
              "'Trouser'"
            ]
          },
          "metadata": {
            "tags": []
          },
          "execution_count": 86
        }
      ]
    },
    {
      "cell_type": "markdown",
      "metadata": {
        "id": "SElFVjrAb8Qe"
      },
      "source": [
        "Testing Model Saving and Loading:"
      ]
    },
    {
      "cell_type": "code",
      "metadata": {
        "colab": {
          "base_uri": "https://localhost:8080/"
        },
        "id": "eYLsDwP2KmpZ",
        "outputId": "0e001cc3-88c2-40db-d67e-3a1e9a78c4ea"
      },
      "source": [
        "from google.colab import drive\r\n",
        "drive.mount('/content/gdrive')"
      ],
      "execution_count": null,
      "outputs": [
        {
          "output_type": "stream",
          "text": [
            "Mounted at /content/gdrive\n"
          ],
          "name": "stdout"
        }
      ]
    },
    {
      "cell_type": "code",
      "metadata": {
        "colab": {
          "base_uri": "https://localhost:8080/"
        },
        "id": "4sowLIOzKwph",
        "outputId": "405568e9-7fd0-403b-cd73-071cb3858902"
      },
      "source": [
        "moodel.save(\"/content/gdrive/MyDrive/ImageRecognition/model/\")"
      ],
      "execution_count": null,
      "outputs": [
        {
          "output_type": "stream",
          "text": [
            "INFO:tensorflow:Assets written to: /content/gdrive/MyDrive/ImageRecognition/model/assets\n"
          ],
          "name": "stdout"
        }
      ]
    },
    {
      "cell_type": "code",
      "metadata": {
        "id": "bfqLlE0LLXNH"
      },
      "source": [
        "moodel.save(\"/content/gdrive/MyDrive/ImageRecognition/h5/my_model.h5\")"
      ],
      "execution_count": null,
      "outputs": []
    },
    {
      "cell_type": "code",
      "metadata": {
        "id": "TNmufZGRTJuI"
      },
      "source": [
        "from keras.models import load_model\r\n",
        "new_model = load_model(\"/content/gdrive/MyDrive/ImageRecognition/model/\")\r\n",
        "new_model.summary()\r\n",
        "eval = new_model.evaluate(test_images, test_labels, verbose = 1)\r\n",
        "print(\"The model has a loss of {} \\nThe model is {}% accurate\".format(eval[0], round(eval[1]*100)))"
      ],
      "execution_count": null,
      "outputs": []
    }
  ]
}