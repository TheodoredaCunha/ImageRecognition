{
  "nbformat": 4,
  "nbformat_minor": 0,
  "metadata": {
    "colab": {
      "name": "MainProgram.ipynb",
      "provenance": []
    },
    "kernelspec": {
      "name": "python3",
      "display_name": "Python 3"
    }
  },
  "cells": [
    {
      "cell_type": "markdown",
      "metadata": {
        "id": "e-treYl_XjVW"
      },
      "source": [
        "Loading Libraries"
      ]
    },
    {
      "cell_type": "code",
      "metadata": {
        "id": "SSHKIFGFyesD"
      },
      "source": [
        "import tensorflow as tf\r\n",
        "import keras\r\n",
        "from keras.models import Sequential, load_model\r\n",
        "from keras.layers import Dense, Conv2D, MaxPooling2D, Flatten, Dropout\r\n",
        "from keras.datasets import fashion_mnist\r\n",
        "import matplotlib.pyplot as plt"
      ],
      "execution_count": 43,
      "outputs": []
    },
    {
      "cell_type": "code",
      "metadata": {
        "colab": {
          "base_uri": "https://localhost:8080/"
        },
        "id": "l_Fzd1ghxvsW",
        "outputId": "73c00c69-48be-47b0-8823-0c9ca6eacca6"
      },
      "source": [
        "from google.colab import drive\r\n",
        "drive.mount('/content/gdrive')"
      ],
      "execution_count": 44,
      "outputs": [
        {
          "output_type": "stream",
          "text": [
            "Drive already mounted at /content/gdrive; to attempt to forcibly remount, call drive.mount(\"/content/gdrive\", force_remount=True).\n"
          ],
          "name": "stdout"
        }
      ]
    },
    {
      "cell_type": "markdown",
      "metadata": {
        "id": "JyeA0SNLXnDP"
      },
      "source": [
        "Loading Dataset"
      ]
    },
    {
      "cell_type": "code",
      "metadata": {
        "colab": {
          "base_uri": "https://localhost:8080/"
        },
        "id": "1hInofipz2lu",
        "outputId": "bb1d3af6-2865-4b51-d1d9-94307982c3e3"
      },
      "source": [
        "(train_images, train_labels), (test_images, test_labels) = fashion_mnist.load_data()\r\n",
        "print(test_labels.shape)\r\n",
        "train_labels = keras.utils.to_categorical(train_labels, 10)\r\n",
        "train_images = train_images.reshape(train_images.shape[0], 28, 28, 1)\r\n",
        "\r\n",
        "test_labels = keras.utils.to_categorical(test_labels, 10)\r\n",
        "test_images = test_images.reshape(test_images.shape[0], 28, 28, 1)"
      ],
      "execution_count": 45,
      "outputs": [
        {
          "output_type": "stream",
          "text": [
            "(10000,)\n"
          ],
          "name": "stdout"
        }
      ]
    },
    {
      "cell_type": "markdown",
      "metadata": {
        "id": "3hcID0NAYDCa"
      },
      "source": [
        "Project: "
      ]
    },
    {
      "cell_type": "code",
      "metadata": {
        "id": "SwD_dcqfyGy_"
      },
      "source": [
        " #Loading the pretrained model\r\n",
        " def load_NN(filename):\r\n",
        "  new_model = load_model(\"/content/gdrive/MyDrive/\" + filename)\r\n",
        "  new_model.summary()\r\n",
        "  eval = new_model.evaluate(test_images, test_labels, verbose = 1)\r\n",
        "  print(\"The model has a loss of {} \\nThe model is {}% accurate\".format(eval[0], round(eval[1]*100)))\r\n",
        "  return new_model"
      ],
      "execution_count": 47,
      "outputs": []
    },
    {
      "cell_type": "code",
      "metadata": {
        "id": "CYEQ8sdn0Ps6"
      },
      "source": [
        "#Loading Camera\r\n",
        "from IPython.display import display, Javascript\r\n",
        "from google.colab.output import eval_js\r\n",
        "from base64 import b64decode\r\n",
        "import matplotlib.image as mpimg\r\n",
        "import io\r\n",
        "import cv2\r\n",
        "import numpy as np\r\n",
        "#import imutils\r\n",
        "def take_photo(filename='photo.jpg', quality=0.8):\r\n",
        "  js = Javascript('''\r\n",
        "    async function takePhoto(quality) {\r\n",
        "      const div = document.createElement('div');\r\n",
        "      const capture = document.createElement('button');\r\n",
        "      capture.textContent = 'Capture';\r\n",
        "      div.appendChild(capture);\r\n",
        "\r\n",
        "      const video = document.createElement('video');\r\n",
        "      video.style.display = 'block';\r\n",
        "      const stream = await navigator.mediaDevices.getUserMedia({video: true});\r\n",
        "\r\n",
        "      document.body.appendChild(div);\r\n",
        "      div.appendChild(video);\r\n",
        "      video.srcObject = stream;\r\n",
        "      await video.play();\r\n",
        "\r\n",
        "      // Resize the output to fit the video element.\r\n",
        "      google.colab.output.setIframeHeight(document.documentElement.scrollHeight, true);\r\n",
        "\r\n",
        "      // Wait for Capture to be clicked.\r\n",
        "      await new Promise((resolve) => capture.onclick = resolve);\r\n",
        "\r\n",
        "      const canvas = document.createElement('canvas');\r\n",
        "      console.log(video.width, video.height);\r\n",
        "      canvas.width = 550;\r\n",
        "      canvas.height = 450;\r\n",
        "      canvas.getContext('2d').drawImage(video, 0, 0);\r\n",
        "      stream.getVideoTracks()[0].stop();\r\n",
        "      div.remove();\r\n",
        "      return canvas.toDataURL('image/jpeg', quality);\r\n",
        "    }\r\n",
        "    ''')\r\n",
        "  display(js)\r\n",
        "  data = eval_js('takePhoto({})'.format(quality))\r\n",
        "  binary = b64decode(data.split(',')[1])\r\n",
        "  image = io.BytesIO(binary)\r\n",
        "  i = mpimg.imread(image, format='JPG')\r\n",
        "  resized = cv2.resize(i, (28, 28))\r\n",
        "  #resized = imutils.resize(i, width =28)\r\n",
        "  gray = cv2.cvtColor(resized, cv2.COLOR_BGR2GRAY)\r\n",
        "  gray = np.array(gray)\r\n",
        "  fixed = []\r\n",
        "  fixed_print = []\r\n",
        "  for i in gray:\r\n",
        "    current = []\r\n",
        "    to_print = []\r\n",
        "    for j in i:\r\n",
        "      if j <= 150:\r\n",
        "        current.append([5])\r\n",
        "        to_print.append(5)\r\n",
        "      else:\r\n",
        "        current.append([j])\r\n",
        "        to_print.append(j)\r\n",
        "    fixed.append(current)\r\n",
        "    fixed_print.append(to_print)\r\n",
        "  plt.imshow(fixed_print, interpolation='nearest')\r\n",
        "  plt.show()\r\n",
        "  return fixed"
      ],
      "execution_count": 48,
      "outputs": []
    },
    {
      "cell_type": "code",
      "metadata": {
        "id": "YGhmI7S20V8w"
      },
      "source": [
        "#User Provided Data\r\n",
        "def program():\r\n",
        "  done = False\r\n",
        "  while not done:\r\n",
        "    print(\"TAKING PHOTO\\n==========================================\")\r\n",
        "    resized = take_photo()\r\n",
        "    photo = []\r\n",
        "    #resized = cv2.cvtColor(resized, cv2.COLOR_BGR2GRAY)\r\n",
        "    #resized = resized[:, :, 0]\r\n",
        "    photo.append(resized)\r\n",
        "    photo = np.array(photo)\r\n",
        "    photo.reshape(1, 28, 28, 1)\r\n",
        "    print(photo.shape)\r\n",
        "    p = model.predict(photo)\r\n",
        "    print(p)\r\n",
        "    results_index = list(p[0]).index(max(list(p[0])))\r\n",
        "    final_answer = class_names[results_index]\r\n",
        "    print(final_answer)\r\n",
        "    changes = 0\r\n",
        "    accurate = input(\"Is the result accurate? 1 = yes, anything else = no: \")\r\n",
        "    if accurate ==  \"1\":\r\n",
        "      print(\"Thank you\")\r\n",
        "    else:\r\n",
        "      ask2train = input(\"Should the model be retrained? 1 = yes, anything else = no: \")\r\n",
        "      if ask2train == \"1\":\r\n",
        "        changes += 1\r\n",
        "        num_epochs = int(input(\"epochs: \"))\r\n",
        "        num_data = int(input(\"number of data: \"))\r\n",
        "        model.fit(train_images[:num_data], train_labels[:num_data], epochs = num_epochs, validation_data = (test_images, test_labels), verbose = 1)\r\n",
        "      else:\r\n",
        "        print(\"ok...\")\r\n",
        "    askifdone = input(\"Take another photo? 1 = yes, anything else = no: \")\r\n",
        "    print(askifdone)\r\n",
        "    if askifdone != \"1\":\r\n",
        "      if changes > 0:\r\n",
        "        askifsavemodel = input(\"Should the model be saved? 1 = yes, anything else = no: \")\r\n",
        "        if askifsavemodel == \"1\":\r\n",
        "          saving_filename = input(\"New model name or directory: \")\r\n",
        "          model.save(\"/content/gdrive/MyDrive/\" + saving_filename)\r\n",
        "      done = True\r\n",
        "      print(\"Goodbye...\")\r\n",
        "    else:\r\n",
        "      done = False\r\n",
        "\r\n",
        "\r\n",
        "    \r\n",
        "    \r\n"
      ],
      "execution_count": 59,
      "outputs": []
    },
    {
      "cell_type": "code",
      "metadata": {
        "id": "TdPOhv2NKhVY"
      },
      "source": [
        "#Get examples from Dataset\r\n",
        "def get_examples():\r\n",
        "  repeated = 0\r\n",
        "  counter_index = 0\r\n",
        "  for i in class_names:\r\n",
        "    print(\"{}: {}\".format(counter_index, i))\r\n",
        "    counter_index += 1\r\n",
        "  search_for = input(\"What images are you looking for? \")\r\n",
        "  total  = int(input(\"How many of these images do you want: \"))\r\n",
        "  if search_for in class_names:\r\n",
        "    for i in range(len(test_images)):\r\n",
        "      test = np.array([test_images[i]])\r\n",
        "      prediction_answer = list(model.predict(test)[0])\r\n",
        "      prediction_index = prediction_answer.index(max(prediction_answer))\r\n",
        "      ans = class_names[prediction_index]\r\n",
        "      if ans == search_for:\r\n",
        "        image_show = test_images.reshape(10000, 28, 28)\r\n",
        "        plt.imshow(image_show[i])\r\n",
        "        plt.show()\r\n",
        "        repeated += 1\r\n",
        "\r\n",
        "      if repeated == total:\r\n",
        "        break\r\n",
        "    return None"
      ],
      "execution_count": 50,
      "outputs": []
    },
    {
      "cell_type": "code",
      "metadata": {
        "id": "3QTEyR_oR83_"
      },
      "source": [
        "#Main Program - Menu\r\n",
        "def menu():\r\n",
        "  exit = False\r\n",
        "  while not exit:\r\n",
        "    print(\"\\tMenu\\n ============================ \\n1: Get Test Data Examples\\n2: Test with Your Own Data \\nAnything Else: Exit\")\r\n",
        "    choice = input(\"1,2, or anything else? \")\r\n",
        "    if choice == \"1\":\r\n",
        "      get_examples()\r\n",
        "    elif choice == \"2\":\r\n",
        "      program()\r\n",
        "    else:\r\n",
        "      print(\"Goodbye then...\")\r\n",
        "      break"
      ],
      "execution_count": 51,
      "outputs": []
    },
    {
      "cell_type": "code",
      "metadata": {
        "id": "tr3fXlwSZ-nd"
      },
      "source": [
        "#Runs Program\r\n",
        "class_names = ['T-shirt/top', 'Trouser', 'Pullover', 'Dress', 'Coat',\r\n",
        "               'Sandal', 'Shirt', 'Sneaker', 'Bag', 'Ankle boot']\r\n",
        "\r\n",
        "print(\"ImageRecognition/model/\")\r\n",
        "filename = input(\"Model filename/directory...\")\r\n",
        "print(\"LOADING MODEL\\n==========================================\")\r\n",
        "model = load_NN(filename)\r\n",
        "print(\"==========================================\")\r\n",
        "menu()"
      ],
      "execution_count": null,
      "outputs": []
    }
  ]
}